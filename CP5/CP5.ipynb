{
 "cells": [
  {
   "cell_type": "markdown",
   "metadata": {},
   "source": [
    "# Checkpoint 5"
   ]
  },
  {
   "cell_type": "markdown",
   "metadata": {},
   "source": [
    "Import Required Libraries"
   ]
  },
  {
   "cell_type": "code",
   "execution_count": 228,
   "metadata": {},
   "outputs": [],
   "source": [
    "import numpy as np \n",
    "from scipy import integrate\n",
    "from scipy.optimize import curve_fit\n",
    "from scipy.stats import chi2\n",
    "import math\n",
    "import matplotlib.pyplot as plt\n",
    "from scipy.special import erfinv,erf\n",
    "from iminuit import Minuit as im\n",
    "\n",
    "\n",
    "XMIN = 0.\n",
    "XMAX = 20.\n",
    "intercept = 20.\n",
    "slope = -1.\n",
    "# signal parameters\n",
    "mean = 10.\n",
    "sigma = 0.5\n",
    "NBINS = 100\n",
    "NEVENTS = 10000"
   ]
  },
  {
   "cell_type": "markdown",
   "metadata": {},
   "source": []
  },
  {
   "cell_type": "markdown",
   "metadata": {},
   "source": [
    "## Classes"
   ]
  },
  {
   "cell_type": "markdown",
   "metadata": {},
   "source": [
    "### Linear Class"
   ]
  },
  {
   "cell_type": "code",
   "execution_count": 229,
   "metadata": {},
   "outputs": [],
   "source": [
    "class Linear:\n",
    "    \"\"\"Generates Linear Class with parameters for linear function.\n",
    "    \"\"\"\n",
    "    def __init__(self, XMIN,XMAX,intercept,slope):\n",
    "        self.mass = []\n",
    "\n",
    "        self.lolimit = XMIN\n",
    "        self.hilimit = XMAX\n",
    "        self.intercept = intercept\n",
    "        self.slope = slope\n",
    "      \n",
    "        \n",
    "    def evaluate(self,inp):\n",
    "        \"\"\"Evaluates linear function at input(inp)\n",
    "\n",
    "        Args:\n",
    "            input (float, Numpy Array): Any number that needs to be mapped\n",
    "\n",
    "        Returns:\n",
    "            float, Numpy Array: input mapped onto a linear function\n",
    "        \"\"\"\n",
    "        return self.intercept + self.slope * inp\n",
    "    \n",
    "    def maxval(self):\n",
    "        \"\"\"\n",
    "        Returns:\n",
    "            float : Maximum value of the linear function of the class.\n",
    "        \"\"\"\n",
    "        return np.amax([self.evaluate(self.hilimit),self.evaluate(self.lolimit)]) + np.random.uniform()\n",
    "    \n",
    "    def integral(self, imin=False,imax=False):\n",
    "        \"\"\"\n",
    "        Integrates the Linear function output between a range.\n",
    "\n",
    "        Args:\n",
    "            imin (bool, float): The minimum for the integration range. Defaults to Class MIN.\n",
    "            imax (bool, optional): The maximum for integration range. Defaults to Class MAX.\n",
    "\n",
    "        Returns:\n",
    "            _type_: _description_\n",
    "        \"\"\"\n",
    "        imin = self.lolimit if not imin else imin\n",
    "        imax = self.hilimit if not imax else imax\n",
    "        return integrate.quad(self.evaluate, imin, imax)[0]\n",
    "                    \n",
    "    def next(self,events):\n",
    "        \"\"\" Generates float Numpy Array containing events from a Linear PDF of the class.\n",
    "\n",
    "        Args:\n",
    "            events (int): Number of events to simulate\n",
    "\n",
    "        Returns:\n",
    "            Numpy Array : Events from a Linear PDF of the class\n",
    "        \"\"\"\n",
    "        global XMIN ,XMAX\n",
    "     \n",
    "        filtered_x = np.random.uniform(XMIN, XMAX,size=events)\n",
    "        y1 = self.evaluate(filtered_x)\n",
    "        y2 = np.random.uniform(XMIN, XMAX,size=events)\n",
    "        # %%\n",
    "        left_filtered = np.where(~(y2<y1))[0] #numbers that do are not under linear function\n",
    "        \n",
    "        # %%\n",
    "        #replace every random nonadherent number with another random one that follows condition\n",
    "        while(len(left_filtered) != 0):\n",
    "            filtered_x[left_filtered] = np.random.uniform(XMIN, XMAX,size=len(left_filtered))\n",
    "            y1 = self.evaluate(filtered_x)\n",
    "            y2[left_filtered] = np.random.uniform(XMIN, XMAX,size=len(left_filtered))\n",
    "            left_filtered = np.where(~(y2 < y1))[0]\n",
    "        self.mass = filtered_x\n",
    "        return filtered_x\n",
    "\n",
    "    \n",
    " \n",
    "              \n"
   ]
  },
  {
   "cell_type": "markdown",
   "metadata": {},
   "source": [
    "### Gaussian\n"
   ]
  },
  {
   "cell_type": "code",
   "execution_count": 230,
   "metadata": {},
   "outputs": [],
   "source": [
    "class Gaussian:\n",
    "    \"\"\"Generates Gaussian Class with parameters for Gaussian function.\n",
    "    \"\"\"\n",
    "    def __init__(self,mean=mean,sigma=sigma):\n",
    "        self.mass = []\n",
    "        self.mean = mean\n",
    "        self.sigma = sigma\n",
    "        \n",
    "    def evaluate(self, inp):\n",
    "        \"\"\"Evaluates linear function at input(inp)\n",
    "        Args:\n",
    "            inp (f): _description_\n",
    "\n",
    "        Returns:\n",
    "            _type_: _description_\n",
    "        \"\"\"\n",
    "        return np.exp(-(inp - self.mean)**2 / (2 * self.sigma**2)) # where 1 was amplitude initially\n",
    "    \n",
    "    def integral(self, imin=False,imax=False):\n",
    "        \n",
    "        imin = self.mean - 5*self.sigma if not imin else imin\n",
    "        imax = self.mean + 5*self.sigma if not imax else imax\n",
    "        \n",
    "          \n",
    "        return integrate.quad(self.evaluate,imin,imax,points=[self.mean])[0]\n",
    "    \n",
    "    def next(self,events): \n",
    "        return np.random.normal(loc=self.mean, scale=self.sigma,size=events)"
   ]
  },
  {
   "cell_type": "markdown",
   "metadata": {},
   "source": [
    "### Signal With Background"
   ]
  },
  {
   "cell_type": "code",
   "execution_count": 231,
   "metadata": {},
   "outputs": [],
   "source": [
    "class SignalWithBackground:\n",
    "    \n",
    "    def __init__(self, mean, sigma, sig_fraction, intercept, slope, XMIN, XMAX):\n",
    "        self.mass_sig = []\n",
    "        self.mass_bgd = []\n",
    "        self.mass = 0\n",
    "        \n",
    "        \n",
    "        self.signal = Gaussian(mean,sigma)\n",
    "        self.background = Linear(XMIN,XMAX,intercept,slope)\n",
    "        self.sig_fraction = sig_fraction\n",
    "  \n",
    "\n",
    "    # Draw random number form distribution\n",
    "    def next(self,events):\n",
    "        # given to us in exmaple\n",
    "        # q = np.random.uniform() \n",
    "        # if( q < self.sig_fraction):\n",
    "        # # if here, we will draw x from signal distribution\n",
    "        #     filtered_x = self.signal.next()\n",
    "        #     self.mass_sig.append(filtered_x)\n",
    "        # else:\n",
    "        #     # if here, we will draw x from background distribuion\n",
    "        #     filtered_x = self.background.next() \n",
    "        #     self.mass_bgd.append(filtered_x)\n",
    "        # self.mass.append(filtered_x) \n",
    "        # return filtered_x\n",
    "        \n",
    "        self.mass = np.zeros(events)\n",
    "        q = np.random.uniform(size=events)\n",
    "        p = np.where(q<self.sig_fraction)[0]\n",
    "        self.mass_sig = self.mass[p] = self.signal.next(len(p))\n",
    "        self.mass_bgd = self.mass[~(q<self.sig_fraction)] = self.background.next(len(q)-len(p))"
   ]
  },
  {
   "cell_type": "markdown",
   "metadata": {},
   "source": [
    "## Problem 1 : Simple Toy"
   ]
  },
  {
   "cell_type": "markdown",
   "metadata": {},
   "source": []
  },
  {
   "cell_type": "code",
   "execution_count": 232,
   "metadata": {},
   "outputs": [
    {
     "data": {
      "image/png": "[encoded data removed]",
      "text/plain": [
       "<Figure size 640x480 with 3 Axes>"
      ]
     },
     "metadata": {},
     "output_type": "display_data"
    }
   ],
   "source": [
    "def singleToy(nevents_sig = 300, nevents_bgd = 10000,save_plot=True):\n",
    "    total_events = nevents_bgd + nevents_sig\n",
    "    sig_fraction = nevents_sig/total_events\n",
    "#   Create the pdf\n",
    "    pdf = SignalWithBackground(mean, sigma, sig_fraction, intercept, slope, XMIN, XMAX ) \n",
    "    # for i in range( nevents_sig + nevents_bgd ): \n",
    "    pdf.next(total_events)\n",
    "    # retrieve the mass values for signal, background and their sum\n",
    "    data = pdf.mass \n",
    "    sig_data = pdf.mass_sig \n",
    "    bgd_data = pdf.mass_bgd\n",
    "    # plot things on same page\n",
    "    \n",
    "    myRange = (XMIN, XMAX)\n",
    "    fig, axs = plt.subplots(3,1, sharex='col')\n",
    "    axs[0].set_title(\"Signal distribution (\" + str(len(sig_data)) + \" entries)\") \n",
    "    axs[1].set_title(\"Background distribution (\" + str(len(bgd_data)) + \" entries)\") \n",
    "    axs[2].set_title(\"Total distribution (\" + str(len(data)) + \" entries)\") \n",
    "    axs[2].set_xlabel('X')\n",
    "    axs[0].hist(sig_data, bins=NBINS, range=myRange) \n",
    "    axs[1].hist(bgd_data, bins = NBINS) \n",
    "    axs[2].hist(data, bins = NBINS) \n",
    "    fig.tight_layout()\n",
    "    if save_plot:\n",
    "        plt.savefig('Example1.pdf')\n",
    " \n",
    "\n",
    "    \n",
    "singleToy()"
   ]
  },
  {
   "cell_type": "markdown",
   "metadata": {},
   "source": [
    "In the third plot, there is a clear peak where the signal is ought to be but it could be due to our visual bias had we not known about the original signal in the first place. "
   ]
  },
  {
   "cell_type": "markdown",
   "metadata": {},
   "source": [
    "## Problem 2 : Quantifying Background Fluctuations"
   ]
  },
  {
   "cell_type": "code",
   "execution_count": 233,
   "metadata": {},
   "outputs": [
    {
     "name": "stdout",
     "output_type": "stream",
     "text": [
      "p-value: 0.00135 and n-sigma: 3\n"
     ]
    }
   ],
   "source": [
    "mean_hits = NEVENTS\n",
    "sigma_poisson = np.sqrt(mean_hits)\n",
    "\n",
    "poisson_bgd = Gaussian(mean_hits,sigma_poisson)\n",
    "\n",
    "p_value = poisson_bgd.integral(imin=mean_hits+300)/poisson_bgd.integral()\n",
    "n_sigma = erfinv(1 - p_value) * np.sqrt(2)\n",
    "print(\"p-value: {:.5f} and n-sigma: {:.0f}\".format(p_value, n_sigma))"
   ]
  },
  {
   "cell_type": "markdown",
   "metadata": {},
   "source": [
    "There is a 0.135% probability that a background only process with mean number of events at 10,000 can fluctaute to more than 10,300 events. These events atleast 3 sigma deviation away from the mean."
   ]
  },
  {
   "cell_type": "markdown",
   "metadata": {},
   "source": [
    "## Problem 3"
   ]
  },
  {
   "cell_type": "markdown",
   "metadata": {},
   "source": [
    "**Confirmation of Number of Background Events.**\n",
    "\n",
    "From the output it can be confirmed that 50% of the background events are in the region x = 5 and x = 15"
   ]
  },
  {
   "cell_type": "code",
   "execution_count": 234,
   "metadata": {},
   "outputs": [
    {
     "name": "stdout",
     "output_type": "stream",
     "text": [
      "background fraction in (5,15) range is 50.0%\n"
     ]
    }
   ],
   "source": [
    "bgd = Linear(XMIN,XMAX,intercept,slope) #Linear Object for the background range\n",
    "bgd_fraction = bgd.integral(5,15)/bgd.integral() #fractional integral area within the range\n",
    "\n",
    "\n",
    "print(\"background fraction in (5,15) range is {}%\".format(bgd_fraction*100))\n",
    "\n"
   ]
  },
  {
   "cell_type": "markdown",
   "metadata": {},
   "source": [
    "**p-value and Z score for the subregion (5,15)**"
   ]
  },
  {
   "cell_type": "code",
   "execution_count": 235,
   "metadata": {},
   "outputs": [
    {
     "name": "stdout",
     "output_type": "stream",
     "text": [
      "1.0758603095354499e-05\n",
      "p-value: 0.00001 and n-sigma: 4\n"
     ]
    }
   ],
   "source": [
    "# Poisson parameters for the subregion distribution\n",
    "mean_hits = NEVENTS*bgd_fraction \n",
    "sigma_poisson = np.sqrt(mean_hits) \n",
    "\n",
    "\n",
    "poisson_bgd = Gaussian(mean_hits,sigma_poisson) # Gaussian class estimating Poisson for subregion\n",
    "p_value = poisson_bgd.integral(imin=mean_hits+300)/poisson_bgd.integral()\n",
    "print(p_value)\n",
    "\n",
    "n_sigma = erfinv(1 - p_value) * np.sqrt(2)\n",
    "print(\"p-value: {:.5f} and n-sigma: {:.0f}\".format(p_value, n_sigma))"
   ]
  },
  {
   "cell_type": "markdown",
   "metadata": {},
   "source": [
    "The deviation is much more signifcant, there is a 1 sigma difference. The p-value is also significantly smaller. The number of events to imply signal is still constant and is comparatively larger in ratio with the background events if we reduce our region of background events. The number of events in the  reduced region are less likely to deviate as far.\n",
    "\n",
    "This is also analogous to the idea that if we know where to look at, we are more likely to find it."
   ]
  },
  {
   "cell_type": "markdown",
   "metadata": {},
   "source": [
    "## Problem 4"
   ]
  },
  {
   "cell_type": "markdown",
   "metadata": {},
   "source": [
    "**Generating a Toy with 150 signal events.**"
   ]
  },
  {
   "cell_type": "code",
   "execution_count": 236,
   "metadata": {},
   "outputs": [],
   "source": [
    "\n",
    "nevents_sig = 150\n",
    "nevents_bgd = 10000\n",
    "total_events = nevents_bgd + nevents_sig\n",
    "sig_ratio = nevents_sig/total_events\n",
    "x = 0 #initializing the dataset for the experiment\n"
   ]
  },
  {
   "cell_type": "code",
   "execution_count": 1,
   "metadata": {},
   "outputs": [],
   "source": [
    "def nll(y0,m,F):\n",
    "    \"\"\"Negative Log-likelihood Function\n",
    "\n",
    "    Args:\n",
    "        y0 (float): Intercept\n",
    "        m (float): slope\n",
    "        F (float): Signal Fraction\n",
    "\n",
    "    Returns:\n",
    "        float : Negative Log likelihood of the Signal with Background events\n",
    "    \"\"\"\n",
    "    h0_component = y0 + m * x #linear equation\n",
    "    normf_h0_component = 20*(10*m+y0) #normalization factor\n",
    "    norm_h0 = h0_component/normf_h0_component #normalised equation\n",
    "\n",
    "   \n",
    "    signal_component = np.exp(-(x - mean)**2 / (2 * sigma**2)) #Gaussian equation with fixed mean and sigma\n",
    "    const = np.sqrt(2)*sigma #just a constant\n",
    "    normf_signal = np.sqrt(np.pi/2)*sigma*(erf(mean/const)   -  erf((mean-20)/const)) # normalization factor \n",
    "    norm_signal = signal_component/normf_signal #normalized equation\n",
    "    \n",
    "    P =   (1-F)*norm_h0 + (F)*norm_signal #combined equation\n",
    "    \n",
    "    return -np.sum(np.log(P))\n",
    "\n",
    "def h0_fit(fn):\n",
    "    \"\"\"\n",
    "    Carries out H0 fit\n",
    "\n",
    "    Args:\n",
    "        fn (function): NLL function\n",
    "\n",
    "    Returns:\n",
    "        iminuit object : iminuit object contaning the likelihood fit\n",
    "    \"\"\"\n",
    "    m_h0 = im(fn,y0=intercept, m=slope,F=0)\n",
    "    m_h0.fixed['F'] = True #fixing \n",
    "    m_h0.errordef = 0.5\n",
    "    m_h0.migrad()\n",
    "    return m_h0\n",
    "\n",
    "def h1_fit(fn):\n",
    "    \"\"\"\n",
    "    Carries out the H1 fit\n",
    "\n",
    "    Args:\n",
    "        fn (function): NLL function\n",
    "\n",
    "    Returns:\n",
    "        iminuit object : iminuit object contaning the likelihood fit\n",
    "    \"\"\"\n",
    "    m_h1 = im(fn,y0=intercept,m=slope,F=sig_ratio)\n",
    "    m_h1.errordef = 0.5\n",
    "    m_h1.migrad()\n",
    "    return m_h1\n",
    "    \n",
    "def nll_diff(m0,m1):\n",
    "    \"\"\"Hypothesis Testing Parameters for NLL\n",
    "\n",
    "    Args:\n",
    "        m0 (iminuit object): iminuit for H0\n",
    "        m1 (iminuit object): iminuit for H1\n",
    "\n",
    "    Returns:\n",
    "        float: Chi-square like difference\n",
    "        float: p-value\n",
    "        float: Z-score / n-sigma\n",
    "    \"\"\"\n",
    "    dX2= 2*abs(nll(*m0.values[0:])-nll(*m1.values[0:]))\n",
    "    p_value = 1-chi2.cdf(dX2,1)\n",
    "    n_sigma = erfinv(1 - p_value) * np.sqrt(2)\n",
    "    return dX2, p_value, n_sigma\n",
    "\n",
    "def mc_exp():\n",
    "    \"\"\"\n",
    "    The function generates a simulated data with Signal and Backgorund. \n",
    "    The data undergoes both H0 and H1 fit. The HYpothesis testing parameters are returned.\n",
    "\n",
    "    Returns:\n",
    "        float: Chi-square like difference\n",
    "        float: p-value\n",
    "        float: Z-score / n-sigma \n",
    "    \"\"\"\n",
    "    global x\n",
    "    pdf = SignalWithBackground(mean, sigma, sig_ratio, intercept, slope, XMIN, XMAX ) \n",
    "    pdf.next(total_events)\n",
    "    x = pdf.mass\n",
    "    \n",
    "    return nll_diff(h0_fit(nll),h1_fit(nll))\n",
    "\n",
    "\n",
    "\n",
    "  \n",
    "    \n",
    "    "
   ]
  },
  {
   "cell_type": "code",
   "execution_count": 256,
   "metadata": {},
   "outputs": [
    {
     "name": "stdout",
     "output_type": "stream",
     "text": [
      "NLL/X2 equivalent(rounded to 5 s.f): 10.21714 p-value(rounded to 5 s.f): 0.00139 and n-sigma: 3\n"
     ]
    }
   ],
   "source": [
    "dX2_ouput,p_value_output,n_sigma_output = mc_exp()\n",
    "print(\"NLL/X2 equivalent(rounded to 5 s.f): {:.5f} p-value(rounded to 5 s.f): {:.5f} and n-sigma: {:.0f}\".format(dX2_ouput,p_value_output, n_sigma_output))"
   ]
  },
  {
   "cell_type": "code",
   "execution_count": 262,
   "metadata": {},
   "outputs": [
    {
     "name": "stdout",
     "output_type": "stream",
     "text": [
      "Probability of this X2 is 14 in 10,000 experiments\n"
     ]
    }
   ],
   "source": [
    "print(\"Probability of this X2 is {:.0f} in 10,000 experiments(rounded to the nearest integer\".format(p_value_output*10000))"
   ]
  },
  {
   "cell_type": "markdown",
   "metadata": {},
   "source": [
    "Extra : variation in the X2 value. Just to see how much the X2 varies."
   ]
  },
  {
   "cell_type": "code",
   "execution_count": 297,
   "metadata": {},
   "outputs": [
    {
     "name": "stderr",
     "output_type": "stream",
     "text": [
      "/var/folders/2f/y14hzqx53r56d9npnh5jl95m0000gp/T/ipykernel_24473/2638949553.py:24: RuntimeWarning: invalid value encountered in log\n",
      "  return -np.sum(np.log(P))\n"
     ]
    },
    {
     "data": {
      "image/png": "[encoded data removed]",
      "text/plain": [
       "<Figure size 640x480 with 1 Axes>"
      ]
     },
     "metadata": {},
     "output_type": "display_data"
    }
   ],
   "source": [
    "N_MC = int(1e+4)\n",
    "mc_x2 = np.empty(N_MC)\n",
    "for i in range(N_MC):\n",
    "    \n",
    "    mc_x2[i] = mc_exp()[0]\n",
    "    \n",
    "plt.hist(mc_x2,bins=100)\n",
    "plt.xlabel(\"del X2\")\n",
    "plt.ylabel(\"Counts\")\n",
    "plt.show()"
   ]
  },
  {
   "cell_type": "markdown",
   "metadata": {},
   "source": [
    "### Problem 5"
   ]
  },
  {
   "cell_type": "code",
   "execution_count": 258,
   "metadata": {},
   "outputs": [],
   "source": [
    "def mc_exp_bgd():\n",
    "    \"\"\"\n",
    "    The function generates a simulated data with Backgorund only events. \n",
    "    The data undergoes both H0 and H1 fit. The HYpothesis testing parameters are returned.\n",
    "\n",
    "    Returns:\n",
    "        float: Chi-square like difference\n",
    "        float: p-value\n",
    "        float: Z-score / n-sigma \n",
    "    \"\"\"\n",
    "    global x\n",
    "    pdf = SignalWithBackground(mean, sigma, 0, intercept, slope, XMIN, XMAX ) \n",
    "    pdf.next(total_events)\n",
    "    x = pdf.mass\n",
    "    \n",
    "    return nll_diff(h0_fit(nll),h1_fit(nll))"
   ]
  },
  {
   "cell_type": "code",
   "execution_count": 259,
   "metadata": {},
   "outputs": [
    {
     "name": "stderr",
     "output_type": "stream",
     "text": [
      "/var/folders/2f/y14hzqx53r56d9npnh5jl95m0000gp/T/ipykernel_24473/2638949553.py:24: RuntimeWarning: invalid value encountered in log\n",
      "  return -np.sum(np.log(P))\n"
     ]
    }
   ],
   "source": [
    "N_MC = int(1e+4)\n",
    "mc_nsigma = np.empty(N_MC)\n",
    "for i in range(N_MC):\n",
    "    \n",
    "    mc_nsigma[i] = mc_exp_bgd()[0]"
   ]
  },
  {
   "cell_type": "code",
   "execution_count": 283,
   "metadata": {},
   "outputs": [
    {
     "data": {
      "image/png": "[encoded data removed]",
      "text/plain": [
       "<Figure size 640x480 with 1 Axes>"
      ]
     },
     "metadata": {},
     "output_type": "display_data"
    }
   ],
   "source": [
    "plt.hist(mc_nsigma,bins=100)\n",
    "plt.xlabel(\"del X2\")\n",
    "plt.ylabel(\"Counts\")\n",
    "plt.show()"
   ]
  },
  {
   "cell_type": "code",
   "execution_count": 296,
   "metadata": {},
   "outputs": [
    {
     "name": "stdout",
     "output_type": "stream",
     "text": [
      "14\n"
     ]
    }
   ],
   "source": [
    "probability_check_for_X2 = np.where(np.isclose(mc_nsigma,dX2_ouput,rtol=0.025))[0]\n",
    "print(probability_check_for_X2.size)"
   ]
  },
  {
   "cell_type": "markdown",
   "metadata": {},
   "source": [
    "The delta Chi-square like value we achieved was around 10.22. With 10,0000 experiments we are likely to see 14 experiments with similar chi square value out of 10,000. Using 10,000 runs in a Monte Carlo simulation, we see 14 such runs considering a tolerance of 2.5%. Wilks Theorem predicts the anomalous behaviour that we see in our Monete Carlo experiment. And they seem to agree that this is a rare occurence. If our model predicts a signal it is very unlikely that it is simply some anomalous behvaiour from the background.\n",
    "\n",
    "Looking at the previous graph, it is clear that majority of del X2 is between 10-30, which is region of rare occurrence from the Monte-Carlo experiment. Using the monte-carlo, It is very unlikely that fluctuations from background will be mistaken for signal using our current model."
   ]
  },
  {
   "cell_type": "markdown",
   "metadata": {},
   "source": []
  }
 ],
 "metadata": {
  "kernelspec": {
   "display_name": "Python 3.9.13 ('daml')",
   "language": "python",
   "name": "python3"
  },
  "language_info": {
   "codemirror_mode": {
    "name": "ipython",
    "version": 3
   },
   "file_extension": ".py",
   "mimetype": "text/x-python",
   "name": "python",
   "nbconvert_exporter": "python",
   "pygments_lexer": "ipython3",
   "version": "3.9.13 | packaged by conda-forge | (main, May 27 2022, 17:00:52) \n[Clang 13.0.1 ]"
  },
  "orig_nbformat": 4,
  "vscode": {
   "interpreter": {
    "hash": "19b09708295bbab47f2e7ec6e8227f8cc1a51947e806c9819c23d58f1093e901"
   }
  }
 },
 "nbformat": 4,
 "nbformat_minor": 2
}
