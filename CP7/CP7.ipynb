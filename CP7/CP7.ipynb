{
 "cells": [
  {
   "cell_type": "code",
   "execution_count": 234,
   "metadata": {},
   "outputs": [],
   "source": [
    "from scipy.integrate import quad\n",
    "from scipy.stats import chi2, binom, poisson, norm\n",
    "from scipy.special import erfinv,erf\n",
    "from scipy.optimize import minimize\n",
    "\n",
    "import numpy as np\n",
    "from matplotlib import pyplot as plt\n",
    "%matplotlib inline\n",
    "\n",
    "from iminuit import Minuit as im\n",
    "import math"
   ]
  },
  {
   "attachments": {},
   "cell_type": "markdown",
   "metadata": {},
   "source": [
    "## Problem 1"
   ]
  },
  {
   "cell_type": "code",
   "execution_count": 235,
   "metadata": {},
   "outputs": [],
   "source": [
    "claim_faulty_rate = 0.05 \n",
    "true_faulty_rate = 0.15\n",
    "N = 100 #sample size\n",
    "t_cut = 9 # max faulty monitors"
   ]
  },
  {
   "cell_type": "code",
   "execution_count": 236,
   "metadata": {},
   "outputs": [
    {
     "data": {
      "text/plain": [
       "0.028188294163416727"
      ]
     },
     "execution_count": 236,
     "metadata": {},
     "output_type": "execute_result"
    }
   ],
   "source": [
    "type1 = 1-np.sum(binom.pmf(np.arange(0,t_cut+1),N,claim_faulty_rate))\n",
    "type1"
   ]
  },
  {
   "attachments": {},
   "cell_type": "markdown",
   "metadata": {},
   "source": [
    "    Type I error for this case is ~ 2.8%."
   ]
  },
  {
   "cell_type": "code",
   "execution_count": 237,
   "metadata": {},
   "outputs": [
    {
     "data": {
      "text/plain": [
       "0.055094631692294414"
      ]
     },
     "execution_count": 237,
     "metadata": {},
     "output_type": "execute_result"
    }
   ],
   "source": [
    "type2 = np.sum(binom.pmf(np.arange(0,t_cut+1),N,true_faulty_rate))\n",
    "type2"
   ]
  },
  {
   "attachments": {},
   "cell_type": "markdown",
   "metadata": {},
   "source": [
    "    Type II for this case is ~ 5.5%"
   ]
  },
  {
   "attachments": {},
   "cell_type": "markdown",
   "metadata": {},
   "source": [
    "### Problem 2"
   ]
  },
  {
   "cell_type": "code",
   "execution_count": 238,
   "metadata": {},
   "outputs": [],
   "source": [
    "\"\"\"\n",
    "Required constants\n",
    "\n",
    "The units of mass is changed to GeV/c**2\n",
    "and unit of time is set to ps.\n",
    "\n",
    "\"\"\"\n",
    "mass_kaon = 0.4937\n",
    "mass_pion = 0.1396\n",
    "\n",
    "L = 20 #m\n",
    "c = 3e+8*1e-12 # m/ps\n",
    "Lc = L/c #ps #time taken by light to transverse L distance\n",
    "sigma = 400 #ps"
   ]
  },
  {
   "attachments": {},
   "cell_type": "markdown",
   "metadata": {},
   "source": [
    "### 2.a"
   ]
  },
  {
   "cell_type": "code",
   "execution_count": 239,
   "metadata": {},
   "outputs": [],
   "source": [
    "class Gaussian:\n",
    "    \"\"\"Generates Gaussian Class with parameters for Gaussian function.\n",
    "    \"\"\"\n",
    "    def __init__(self,mass,rho,sigma=sigma):\n",
    "      \n",
    "        self.mean = Lc*np.sqrt(1+np.square(mass/rho))\n",
    "        self.sigma = sigma\n",
    "\n",
    "        self.pdf = norm(self.mean,self.sigma).pdf\n",
    "        \n",
    "    def integralBelow(self,xval):\n",
    "        return quad(self.pdf,0,xval)[0] #-inf is 0 since time cannot be negative in this case\n",
    "    def integralAbove(self,xval):\n",
    "        return quad(self.pdf,xval,self.mean + 5*sigma)[0]  # 5 sigma contains about 99.99994% of the gaussian , from the 5 sigma effect of particle physics discovery\n",
    "      "
   ]
  },
  {
   "attachments": {},
   "cell_type": "markdown",
   "metadata": {},
   "source": [
    "#### 2.b\n"
   ]
  },
  {
   "cell_type": "code",
   "execution_count": 240,
   "metadata": {},
   "outputs": [],
   "source": [
    "class ROC:\n",
    "    def __init__(self,rho):\n",
    "        \n",
    "        self.kaon_data = Gaussian(mass_kaon,rho)\n",
    "        self.pion_data = Gaussian(mass_pion,rho)\n",
    "        \n",
    "        self.t_cuts = np.linspace(self.pion_data.mean,self.kaon_data.mean,100)\n",
    "        \n",
    "        \n",
    "    def error_pair(self):\n",
    "        pairs = np.empty((100,2))\n",
    "       \n",
    "        for i in range(100):\n",
    "            t = (self.t_cuts)[i]\n",
    "            \n",
    "            pairs[i] = (self.kaon_data).integralBelow(t),(self.pion_data).integralAbove(t)\n",
    "       \n",
    "        return pairs\n",
    "        \n",
    "        \n",
    "        "
   ]
  },
  {
   "attachments": {},
   "cell_type": "markdown",
   "metadata": {},
   "source": [
    "#### 2.c"
   ]
  },
  {
   "cell_type": "code",
   "execution_count": 241,
   "metadata": {},
   "outputs": [],
   "source": [
    "a1 = ROC(3).error_pair() \n",
    "a2 = ROC(4).error_pair() \n",
    "a3 = ROC(6).error_pair() "
   ]
  },
  {
   "cell_type": "code",
   "execution_count": 242,
   "metadata": {},
   "outputs": [
    {
     "data": {
      "image/png": "[encoded data removed]",
      "text/plain": [
       "<Figure size 432x288 with 1 Axes>"
      ]
     },
     "metadata": {
      "needs_background": "light"
     },
     "output_type": "display_data"
    }
   ],
   "source": [
    "plt.plot(a1[:,0], a1[:,1],label=\"3 GeV/c\")\n",
    "plt.plot(a2[:,0], a2[:,1],label=\"4 GeV/c\")\n",
    "plt.plot(a3[:,0], a3[:,1],label=\"6 GeV/c\")\n",
    "plt.legend()\n",
    "plt.xlabel(\"Alpha\")\n",
    "plt.ylabel(\"Beta\")\n",
    "plt.show()"
   ]
  },
  {
   "attachments": {},
   "cell_type": "markdown",
   "metadata": {},
   "source": [
    "    The 3 GeV/c momentum run has better performance. The point closest to (0,0) is on the 3 GeV/c curve. For p >> m, we can roughly say that momentum is inversely propertional to time. For fixed mass, the difference between the time taken to traverse the distance by both the particles becomes larger as the momentum goes smaller, so any overlap they might have reduces. \n",
    "\n",
    "    Among the studied cases, 3 GeV/c will have the least overlap and hence, at a certain cutoff will have the best parameters of alpha and beta. "
   ]
  },
  {
   "attachments": {},
   "cell_type": "markdown",
   "metadata": {},
   "source": [
    "### Problem 3"
   ]
  },
  {
   "cell_type": "code",
   "execution_count": 243,
   "metadata": {},
   "outputs": [
    {
     "name": "stdout",
     "output_type": "stream",
     "text": [
      "total # of events = 43.0 # of bins= 50\n"
     ]
    },
    {
     "data": {
      "image/png": "[encoded data removed]",
      "text/plain": [
       "<Figure size 432x288 with 1 Axes>"
      ]
     },
     "metadata": {
      "needs_background": "light"
     },
     "output_type": "display_data"
    }
   ],
   "source": [
    "nbins = 50\n",
    "XMIN = 2.4 # in GeV\n",
    "XMAX = 3.0 # in GeV\n",
    "sigma = 0.012\n",
    "bins = np.linspace(XMIN, XMAX, nbins)\n",
    "counts = np.array([0, 0, 1, 2, 0, 1, 1, 0, 0, 1, 2, 1, 1, 2, 1, 0, 0, 0, 2, 1, 1,\n",
    "0, 1, 1, 1, 3, 3, 4, 2, 0, 1, 0, 1, 0, 1, 1, 0, 0, 0, 1, 0, 1, 0, 0, 1, 2, 0, 2, 0, 0]).astype(float)\n",
    "tot = 0\n",
    "for i in counts:\n",
    "    tot += i\n",
    "print(\"total # of events =\",tot, \"# of bins=\",len(counts))\n",
    "plt.hist(bins, bins=len(counts),weights=counts, range=(min(bins), max(bins))) \n",
    "plt.show()"
   ]
  },
  {
   "attachments": {},
   "cell_type": "markdown",
   "metadata": {},
   "source": [
    "#### 3.1 / a"
   ]
  },
  {
   "cell_type": "code",
   "execution_count": 244,
   "metadata": {},
   "outputs": [
    {
     "data": {
      "text/plain": [
       "0.86"
      ]
     },
     "execution_count": 244,
     "metadata": {},
     "output_type": "execute_result"
    }
   ],
   "source": [
    "average_background_events_per_bin = tot/nbins\n",
    "average_background_events_per_bin"
   ]
  },
  {
   "attachments": {},
   "cell_type": "markdown",
   "metadata": {},
   "source": [
    "    The average number of background events per bin : 0.86"
   ]
  },
  {
   "attachments": {},
   "cell_type": "markdown",
   "metadata": {},
   "source": [
    "#### 3.1 / b"
   ]
  },
  {
   "cell_type": "code",
   "execution_count": 245,
   "metadata": {},
   "outputs": [
    {
     "data": {
      "text/plain": [
       "2.730612244897959"
      ]
     },
     "execution_count": 245,
     "metadata": {},
     "output_type": "execute_result"
    }
   ],
   "source": [
    "peak_mass = bins[np.argmax(counts)]\n",
    "peak_mass"
   ]
  },
  {
   "attachments": {},
   "cell_type": "markdown",
   "metadata": {},
   "source": [
    "    Location of the peak in the mass spectrum ~ 2.73 GeV/$c^2$"
   ]
  },
  {
   "attachments": {},
   "cell_type": "markdown",
   "metadata": {},
   "source": [
    "#### 3.1 / c"
   ]
  },
  {
   "cell_type": "code",
   "execution_count": 246,
   "metadata": {},
   "outputs": [
    {
     "data": {
      "text/plain": [
       "12.0"
      ]
     },
     "execution_count": 246,
     "metadata": {},
     "output_type": "execute_result"
    }
   ],
   "source": [
    "width = 2.5*sigma\n",
    "\n",
    "window_indices = np.where(np.logical_and(bins >= peak_mass - width, bins <= peak_mass + width))[0] # this retursn 5 indices corresponding to 5 bins\n",
    "Nobs = np.sum(counts[window_indices])\n",
    "Nobs\n"
   ]
  },
  {
   "attachments": {},
   "cell_type": "markdown",
   "metadata": {},
   "source": [
    "    The total number of events in the required window: 12.0"
   ]
  },
  {
   "attachments": {},
   "cell_type": "markdown",
   "metadata": {},
   "source": [
    "#### 3.1 / d"
   ]
  },
  {
   "cell_type": "code",
   "execution_count": 247,
   "metadata": {},
   "outputs": [
    {
     "data": {
      "text/plain": [
       "(4.3, 0.0016660844240050654, 3.144082533933647)"
      ]
     },
     "execution_count": 247,
     "metadata": {},
     "output_type": "execute_result"
    }
   ],
   "source": [
    "Nbgd = average_background_events_per_bin * window_indices.size\n",
    "\n",
    "Pobs = 1-np.sum(poisson.pmf(np.arange(Nobs),Nbgd))\n",
    "std = erfinv(1 - Pobs) * np.sqrt(2)\n",
    "\n",
    "Nbgd,Pobs,std"
   ]
  },
  {
   "attachments": {},
   "cell_type": "markdown",
   "metadata": {},
   "source": [
    "    Nbgd = 4.3 \n",
    "    p-value ~ 0.002\n",
    "    and its sigma ~ 3"
   ]
  },
  {
   "attachments": {},
   "cell_type": "markdown",
   "metadata": {},
   "source": [
    "## 3.2"
   ]
  },
  {
   "attachments": {},
   "cell_type": "markdown",
   "metadata": {},
   "source": [
    "#### a\n"
   ]
  },
  {
   "cell_type": "code",
   "execution_count": 248,
   "metadata": {},
   "outputs": [],
   "source": [
    "class Flat:\n",
    "    \"\"\"Generates Linear Class with parameters for linear function.\n",
    "    \"\"\"\n",
    "    def __init__(self,avg_per_bin):\n",
    "        self.mass = []\n",
    "        self.avg_per_bin = avg_per_bin\n",
    "     \n",
    "      \n",
    "        \n",
    "    def evaluate(self):\n",
    "        \"\"\"Evaluates linear function at input(inp)\n",
    "\n",
    "        Args:\n",
    "            input (float, Numpy Array): Any number that needs to be mapped\n",
    "\n",
    "        Returns:\n",
    "            float, Numpy Array: input mapped onto a linear function\n",
    "        \"\"\"\n",
    "        return self.avg_per_bin       \n",
    "    \n",
    "class Gaussian:\n",
    "    \"\"\"Generates Gaussian Class with parameters for Gaussian function.\n",
    "    \"\"\"\n",
    "    def __init__(self,mean,sigma=sigma):\n",
    "        self.mass = []\n",
    "        self.mean = mean\n",
    "        self.sigma = sigma\n",
    "        \n",
    "    def evaluate(self, inp):\n",
    "        \"\"\"Evaluates linear function at input(inp)\n",
    "        Args:\n",
    "            inp (f): _description_\n",
    "\n",
    "        Returns:\n",
    "            _type_: _description_\n",
    "        \"\"\"\n",
    "        return np.exp(-(inp - self.mean)**2 / (2 * self.sigma**2)) # where 1 was amplitude initially\n",
    "        \n",
    "                    \n"
   ]
  },
  {
   "attachments": {},
   "cell_type": "markdown",
   "metadata": {},
   "source": [
    "#### b"
   ]
  },
  {
   "cell_type": "code",
   "execution_count": 249,
   "metadata": {},
   "outputs": [],
   "source": [
    "def pdf(y0,mean,F):\n",
    "    return lambda x: (1-F)*Flat(y0).evaluate() + (F)*Gaussian(mean).evaluate(x)\n",
    "    \n",
    "\n",
    "def chisq(y0,mean,F):\n",
    "    yo = counts\n",
    "    yo[yo == 0] = 1e-16 # set the 0 values to some small number to prevent error on the log function\n",
    "    \n",
    "    yp = pdf(y0,mean,F) \n",
    "    n = quad(yp,XMIN,XMAX)[0]\n",
    "    yp = yp(bins)/n #normalise the pdf\n",
    "    \n",
    "    return 2*np.sum( (yp-yo) + yo*np.log(yo/yp))"
   ]
  },
  {
   "attachments": {},
   "cell_type": "markdown",
   "metadata": {},
   "source": [
    "#### c"
   ]
  },
  {
   "attachments": {},
   "cell_type": "markdown",
   "metadata": {},
   "source": [
    "**Fixing F = 0, makes it the H0 pdf.** The y0 here represents the variable for average number of background counts per bin.\n",
    "And mean is fixed so minuit does not vary it but it does not matter as the guassian element does not come into account since F = 0.\n",
    "\n",
    "Errordef is set to 1.0 as it is minimised using chi-square equivalent."
   ]
  },
  {
   "cell_type": "code",
   "execution_count": 250,
   "metadata": {},
   "outputs": [],
   "source": [
    "m_h0 = im(chisq,y0=average_background_events_per_bin,mean=2.4,F=0)\n",
    "m_h0.fixed['F','mean'] = True \n",
    "m_h0.errordef = 1.0\n",
    "m_h0.migrad()\n",
    "X2_h0 = chisq(*m_h0.values[0:])"
   ]
  },
  {
   "cell_type": "code",
   "execution_count": 251,
   "metadata": {},
   "outputs": [
    {
     "name": "stderr",
     "output_type": "stream",
     "text": [
      "/var/folders/2f/y14hzqx53r56d9npnh5jl95m0000gp/T/ipykernel_2560/2631581261.py:13: RuntimeWarning: invalid value encountered in log\n",
      "  return 2*np.sum( (yp-yo) + yo*np.log(yo/yp))\n",
      "/var/folders/2f/y14hzqx53r56d9npnh5jl95m0000gp/T/ipykernel_2560/2631581261.py:10: IntegrationWarning: The occurrence of roundoff error is detected, which prevents \n",
      "  the requested tolerance from being achieved.  The error may be \n",
      "  underestimated.\n",
      "  n = quad(yp,XMIN,XMAX)[0]\n"
     ]
    },
    {
     "name": "stdout",
     "output_type": "stream",
     "text": [
      "E VariableMetricBuilder Initial matrix not pos.def.\n",
      "E VariableMetricBuilder Initial matrix not pos.def.\n"
     ]
    }
   ],
   "source": [
    "dX2_list = np.empty(nbins)\n",
    "\n",
    "for i in range(nbins):\n",
    "    m_h1 = im(chisq,y0=average_background_events_per_bin,mean=bins[i],F=0.0)\n",
    "    m_h1.fixed['mean'] = True\n",
    "    m_h1.errordef = 1.0\n",
    "    \n",
    "    m_h1.migrad()\n",
    "\n",
    "    dX2_list[i] = (X2_h0-chisq(*m_h1.values[0:]))\n",
    "\n"
   ]
  },
  {
   "cell_type": "code",
   "execution_count": 252,
   "metadata": {},
   "outputs": [
    {
     "data": {
      "image/png": "[encoded data removed]",
      "text/plain": [
       "<Figure size 432x288 with 1 Axes>"
      ]
     },
     "metadata": {
      "needs_background": "light"
     },
     "output_type": "display_data"
    }
   ],
   "source": [
    "plt.hist(dX2_list)\n",
    "\n",
    "counts, edges, bars = plt.hist(dX2_list)\n",
    "plt.xlabel(\"Chi-square\")\n",
    "plt.ylabel(\"Counts\")\n",
    "plt.bar_label(bars)\n",
    "plt.show()"
   ]
  },
  {
   "attachments": {},
   "cell_type": "markdown",
   "metadata": {},
   "source": [
    "Most of the Chi-square have a relativley small difference, i.e H0 and H1 fit are quite close in their explanation at most of the bins. There are few counts of relatively larger difference in chi square, which are possibly the bins in the window of the peak in the data. The largest difference most likley corresponds to the fitting at the bins containing the peak."
   ]
  },
  {
   "attachments": {},
   "cell_type": "markdown",
   "metadata": {},
   "source": [
    "#### d"
   ]
  },
  {
   "cell_type": "code",
   "execution_count": 253,
   "metadata": {},
   "outputs": [
    {
     "name": "stdout",
     "output_type": "stream",
     "text": [
      "NLL/X2 equivalent(rounded to 5 s.f): 13.92144 p-value(rounded to  s.f): 0.00095 and n-sigma: 3\n"
     ]
    }
   ],
   "source": [
    "dX2 = np.amax(dX2_list)\n",
    "p_value = 1-chi2.cdf(dX2,2)\n",
    "n_sigma = erfinv(1 - p_value) * np.sqrt(2)\n",
    "\n",
    "print(\"NLL/X2 equivalent(rounded to 5 s.f): {:.5f} p-value(rounded to  s.f): {:.5f} and n-sigma: {:.0f}\".format(dX2,p_value, n_sigma))"
   ]
  },
  {
   "attachments": {},
   "cell_type": "markdown",
   "metadata": {},
   "source": [
    "    χ2 (H0 )−χ2 (H1 ) equivalent(rounded to 5 s.f): 13.92144 \n",
    "    p-value(rounded to  s.f): 0.00095 \n",
    "    n-sigma: 3"
   ]
  },
  {
   "attachments": {},
   "cell_type": "markdown",
   "metadata": {},
   "source": [
    "In about 1000 experiments, we might observe one such chi-square difference by chance because of the background. There is ~ 99.905% chance that the bin with the corresponding chi-square difference contains a signal. The deviation from background is unlikely to be just an anomalous behvaiour of the background."
   ]
  },
  {
   "cell_type": "markdown",
   "metadata": {},
   "source": []
  }
 ],
 "metadata": {
  "kernelspec": {
   "display_name": "base",
   "language": "python",
   "name": "python3"
  },
  "language_info": {
   "codemirror_mode": {
    "name": "ipython",
    "version": 3
   },
   "file_extension": ".py",
   "mimetype": "text/x-python",
   "name": "python",
   "nbconvert_exporter": "python",
   "pygments_lexer": "ipython3",
   "version": "3.9.12"
  },
  "orig_nbformat": 4,
  "vscode": {
   "interpreter": {
    "hash": "da53d38835faffea80e63966bc129948fc7e9b0cb1da538bc9c402bb169491d8"
   }
  }
 },
 "nbformat": 4,
 "nbformat_minor": 2
}
