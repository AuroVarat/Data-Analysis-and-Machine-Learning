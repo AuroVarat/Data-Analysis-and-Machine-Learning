{
 "cells": [
  {
   "cell_type": "markdown",
   "metadata": {},
   "source": [
    "### Part 1\n"
   ]
  },
  {
   "cell_type": "code",
   "execution_count": 54,
   "metadata": {},
   "outputs": [],
   "source": [
    "# all required imports\n",
    "import numpy as np\n",
    "import matplotlib.pyplot as plt\n",
    "from iminuit import Minuit as im\n",
    "from scipy.special import erf"
   ]
  },
  {
   "cell_type": "code",
   "execution_count": 55,
   "metadata": {},
   "outputs": [],
   "source": [
    "#importing required files\n",
    "data_exp = np.loadtxt('datafile-exp.txt')\n",
    "data_exres = np.loadtxt('datafile-expresonance.txt')\n"
   ]
  },
  {
   "cell_type": "markdown",
   "metadata": {},
   "source": [
    "### Part 1"
   ]
  },
  {
   "cell_type": "markdown",
   "metadata": {},
   "source": [
    "1. Plotting the historgram"
   ]
  },
  {
   "cell_type": "code",
   "execution_count": 56,
   "metadata": {},
   "outputs": [
    {
     "data": {
      "image/png": "[encoded data removed]",
      "text/plain": [
       "<Figure size 432x288 with 1 Axes>"
      ]
     },
     "metadata": {
      "needs_background": "light"
     },
     "output_type": "display_data"
    }
   ],
   "source": [
    "#Plotting for Part 1\n",
    "plt.hist(data_exp, bins=100,density=True)\n",
    "plt.title(\"Generated Lifetimes\")\n",
    "plt.xlabel(\"time\")\n",
    "plt.ylabel(\"Counts\")\n",
    "plt.show()"
   ]
  },
  {
   "cell_type": "markdown",
   "metadata": {},
   "source": [
    "The count halves roughly around 2.0, which can be used as an estimate initial value for the fit."
   ]
  },
  {
   "cell_type": "markdown",
   "metadata": {},
   "source": [
    "2. Defining the nll functions"
   ]
  },
  {
   "cell_type": "code",
   "execution_count": 57,
   "metadata": {},
   "outputs": [],
   "source": [
    "def nll_incorrect(tau):\n",
    "    \"\"\"NLL function on normalised \n",
    "    probability distribution function. Normalised in the range [0,inf]\n",
    "\n",
    "    Args:\n",
    "        tau (float): life time\n",
    "\n",
    "    Returns:\n",
    "        float : NLL function\n",
    "    \"\"\"\n",
    "    P = (1/tau)*np.exp(-data_exp/tau)\n",
    "    return -np.sum(np.log(P))\n",
    "\n",
    "def nll_correct(tau):\n",
    "    \"\"\"NLL function on normalised \n",
    "    probability distribution function. Normalised in the range [0,10]\n",
    "\n",
    "    Args:\n",
    "        tau (float): life time\n",
    "\n",
    "    Returns:\n",
    "        float : NLL function\n",
    "    \"\"\"\n",
    "    n = tau*(1-np.exp(-10/tau)) # normalization for the exponential pdf\n",
    "    P = (1/n)*np.exp(-data_exp/tau) # exponential pdf\n",
    "    return -np.sum(np.log(P)) #nll\n"
   ]
  },
  {
   "cell_type": "markdown",
   "metadata": {},
   "source": [
    "3. Compile and fit the iMinuit to the nll functions to find the estimated lifetime."
   ]
  },
  {
   "cell_type": "code",
   "execution_count": 58,
   "metadata": {},
   "outputs": [
    {
     "data": {
      "text/html": [
       "<table>\n",
       "    <tr>\n",
       "        <th colspan=\"5\" style=\"text-align:center\" title=\"Minimizer\"> Migrad </th>\n",
       "    </tr>\n",
       "    <tr>\n",
       "        <td colspan=\"2\" style=\"text-align:left\" title=\"Minimum value of function\"> FCN = 1.74e+04 </td>\n",
       "        <td colspan=\"3\" style=\"text-align:center\" title=\"Total number of function and (optional) gradient evaluations\"> Nfcn = 18 </td>\n",
       "    </tr>\n",
       "    <tr>\n",
       "        <td colspan=\"2\" style=\"text-align:left\" title=\"Estimated distance to minimum and goal\"> EDM = 3.33e-08 (Goal: 0.0002) </td>\n",
       "        <td colspan=\"3\" style=\"text-align:center\" title=\"Total run time of algorithms\">  </td>\n",
       "    </tr>\n",
       "    <tr>\n",
       "        <td colspan=\"2\" style=\"text-align:center;background-color:#92CCA6;color:black\"> Valid Minimum </td>\n",
       "        <td colspan=\"3\" style=\"text-align:center;background-color:#92CCA6;color:black\"> No Parameters at limit </td>\n",
       "    </tr>\n",
       "    <tr>\n",
       "        <td colspan=\"2\" style=\"text-align:center;background-color:#92CCA6;color:black\"> Below EDM threshold (goal x 10) </td>\n",
       "        <td colspan=\"3\" style=\"text-align:center;background-color:#92CCA6;color:black\"> Below call limit </td>\n",
       "    </tr>\n",
       "    <tr>\n",
       "        <td style=\"text-align:center;background-color:#92CCA6;color:black\"> Covariance </td>\n",
       "        <td style=\"text-align:center;background-color:#92CCA6;color:black\"> Hesse ok </td>\n",
       "        <td style=\"text-align:center;background-color:#92CCA6;color:black\" title=\"Is covariance matrix accurate?\"> Accurate </td>\n",
       "        <td style=\"text-align:center;background-color:#92CCA6;color:black\" title=\"Is covariance matrix positive definite?\"> Pos. def. </td>\n",
       "        <td style=\"text-align:center;background-color:#92CCA6;color:black\" title=\"Was positive definiteness enforced by Minuit?\"> Not forced </td>\n",
       "    </tr>\n",
       "</table><table>\n",
       "    <tr>\n",
       "        <td></td>\n",
       "        <th title=\"Variable name\"> Name </th>\n",
       "        <th title=\"Value of parameter\"> Value </th>\n",
       "        <th title=\"Hesse error\"> Hesse Error </th>\n",
       "        <th title=\"Minos lower error\"> Minos Error- </th>\n",
       "        <th title=\"Minos upper error\"> Minos Error+ </th>\n",
       "        <th title=\"Lower limit of the parameter\"> Limit- </th>\n",
       "        <th title=\"Upper limit of the parameter\"> Limit+ </th>\n",
       "        <th title=\"Is the parameter fixed in the fit\"> Fixed </th>\n",
       "    </tr>\n",
       "    <tr>\n",
       "        <th> 0 </th>\n",
       "        <td> tau </td>\n",
       "        <td> 2.096 </td>\n",
       "        <td> 0.030 </td>\n",
       "        <td>  </td>\n",
       "        <td>  </td>\n",
       "        <td>  </td>\n",
       "        <td>  </td>\n",
       "        <td>  </td>\n",
       "    </tr>\n",
       "</table><table>\n",
       "    <tr>\n",
       "        <td></td>\n",
       "        <th> tau </th>\n",
       "    </tr>\n",
       "    <tr>\n",
       "        <th> tau </th>\n",
       "        <td> 0.000879 </td>\n",
       "    </tr>\n",
       "</table>"
      ],
      "text/plain": [
       "┌─────────────────────────────────────────────────────────────────────────┐\n",
       "│                                Migrad                                   │\n",
       "├──────────────────────────────────┬──────────────────────────────────────┤\n",
       "│ FCN = 1.74e+04                   │              Nfcn = 18               │\n",
       "│ EDM = 3.33e-08 (Goal: 0.0002)    │                                      │\n",
       "├──────────────────────────────────┼──────────────────────────────────────┤\n",
       "│          Valid Minimum           │        No Parameters at limit        │\n",
       "├──────────────────────────────────┼──────────────────────────────────────┤\n",
       "│ Below EDM threshold (goal x 10)  │           Below call limit           │\n",
       "├───────────────┬──────────────────┼───────────┬─────────────┬────────────┤\n",
       "│  Covariance   │     Hesse ok     │ Accurate  │  Pos. def.  │ Not forced │\n",
       "└───────────────┴──────────────────┴───────────┴─────────────┴────────────┘\n",
       "┌───┬──────┬───────────┬───────────┬────────────┬────────────┬─────────┬─────────┬───────┐\n",
       "│   │ Name │   Value   │ Hesse Err │ Minos Err- │ Minos Err+ │ Limit-  │ Limit+  │ Fixed │\n",
       "├───┼──────┼───────────┼───────────┼────────────┼────────────┼─────────┼─────────┼───────┤\n",
       "│ 0 │ tau  │   2.096   │   0.030   │            │            │         │         │       │\n",
       "└───┴──────┴───────────┴───────────┴────────────┴────────────┴─────────┴─────────┴───────┘\n",
       "┌─────┬──────────┐\n",
       "│     │      tau │\n",
       "├─────┼──────────┤\n",
       "│ tau │ 0.000879 │\n",
       "└─────┴──────────┘"
      ]
     },
     "execution_count": 58,
     "metadata": {},
     "output_type": "execute_result"
    }
   ],
   "source": [
    "m = im(nll_incorrect,tau=2.0)\n",
    "#m.limits['tau'] = [0,10]\n",
    "m.migrad()"
   ]
  },
  {
   "cell_type": "code",
   "execution_count": 59,
   "metadata": {},
   "outputs": [
    {
     "name": "stdout",
     "output_type": "stream",
     "text": [
      "The tau estimate with the incorrect normalisation: 2.10 +/- 0.03\n"
     ]
    }
   ],
   "source": [
    "tau_val = m.values[0]\n",
    "tau_err = m.errors[0]\n",
    "print(\"The tau estimate with the incorrect normalisation: {:.2f} +/- {:.2f}\".format(tau_val,tau_err))"
   ]
  },
  {
   "cell_type": "code",
   "execution_count": 60,
   "metadata": {},
   "outputs": [
    {
     "data": {
      "text/html": [
       "<table>\n",
       "    <tr>\n",
       "        <th colspan=\"5\" style=\"text-align:center\" title=\"Minimizer\"> Migrad </th>\n",
       "    </tr>\n",
       "    <tr>\n",
       "        <td colspan=\"2\" style=\"text-align:left\" title=\"Minimum value of function\"> FCN = 1.731e+04 </td>\n",
       "        <td colspan=\"3\" style=\"text-align:center\" title=\"Total number of function and (optional) gradient evaluations\"> Nfcn = 19 </td>\n",
       "    </tr>\n",
       "    <tr>\n",
       "        <td colspan=\"2\" style=\"text-align:left\" title=\"Estimated distance to minimum and goal\"> EDM = 1.01e-07 (Goal: 0.0002) </td>\n",
       "        <td colspan=\"3\" style=\"text-align:center\" title=\"Total run time of algorithms\">  </td>\n",
       "    </tr>\n",
       "    <tr>\n",
       "        <td colspan=\"2\" style=\"text-align:center;background-color:#92CCA6;color:black\"> Valid Minimum </td>\n",
       "        <td colspan=\"3\" style=\"text-align:center;background-color:#92CCA6;color:black\"> No Parameters at limit </td>\n",
       "    </tr>\n",
       "    <tr>\n",
       "        <td colspan=\"2\" style=\"text-align:center;background-color:#92CCA6;color:black\"> Below EDM threshold (goal x 10) </td>\n",
       "        <td colspan=\"3\" style=\"text-align:center;background-color:#92CCA6;color:black\"> Below call limit </td>\n",
       "    </tr>\n",
       "    <tr>\n",
       "        <td style=\"text-align:center;background-color:#92CCA6;color:black\"> Covariance </td>\n",
       "        <td style=\"text-align:center;background-color:#92CCA6;color:black\"> Hesse ok </td>\n",
       "        <td style=\"text-align:center;background-color:#92CCA6;color:black\" title=\"Is covariance matrix accurate?\"> Accurate </td>\n",
       "        <td style=\"text-align:center;background-color:#92CCA6;color:black\" title=\"Is covariance matrix positive definite?\"> Pos. def. </td>\n",
       "        <td style=\"text-align:center;background-color:#92CCA6;color:black\" title=\"Was positive definiteness enforced by Minuit?\"> Not forced </td>\n",
       "    </tr>\n",
       "</table><table>\n",
       "    <tr>\n",
       "        <td></td>\n",
       "        <th title=\"Variable name\"> Name </th>\n",
       "        <th title=\"Value of parameter\"> Value </th>\n",
       "        <th title=\"Hesse error\"> Hesse Error </th>\n",
       "        <th title=\"Minos lower error\"> Minos Error- </th>\n",
       "        <th title=\"Minos upper error\"> Minos Error+ </th>\n",
       "        <th title=\"Lower limit of the parameter\"> Limit- </th>\n",
       "        <th title=\"Upper limit of the parameter\"> Limit+ </th>\n",
       "        <th title=\"Is the parameter fixed in the fit\"> Fixed </th>\n",
       "    </tr>\n",
       "    <tr>\n",
       "        <th> 0 </th>\n",
       "        <td> tau </td>\n",
       "        <td> 2.204 </td>\n",
       "        <td> 0.035 </td>\n",
       "        <td>  </td>\n",
       "        <td>  </td>\n",
       "        <td>  </td>\n",
       "        <td>  </td>\n",
       "        <td>  </td>\n",
       "    </tr>\n",
       "</table><table>\n",
       "    <tr>\n",
       "        <td></td>\n",
       "        <th> tau </th>\n",
       "    </tr>\n",
       "    <tr>\n",
       "        <th> tau </th>\n",
       "        <td> 0.00125 </td>\n",
       "    </tr>\n",
       "</table>"
      ],
      "text/plain": [
       "┌─────────────────────────────────────────────────────────────────────────┐\n",
       "│                                Migrad                                   │\n",
       "├──────────────────────────────────┬──────────────────────────────────────┤\n",
       "│ FCN = 1.731e+04                  │              Nfcn = 19               │\n",
       "│ EDM = 1.01e-07 (Goal: 0.0002)    │                                      │\n",
       "├──────────────────────────────────┼──────────────────────────────────────┤\n",
       "│          Valid Minimum           │        No Parameters at limit        │\n",
       "├──────────────────────────────────┼──────────────────────────────────────┤\n",
       "│ Below EDM threshold (goal x 10)  │           Below call limit           │\n",
       "├───────────────┬──────────────────┼───────────┬─────────────┬────────────┤\n",
       "│  Covariance   │     Hesse ok     │ Accurate  │  Pos. def.  │ Not forced │\n",
       "└───────────────┴──────────────────┴───────────┴─────────────┴────────────┘\n",
       "┌───┬──────┬───────────┬───────────┬────────────┬────────────┬─────────┬─────────┬───────┐\n",
       "│   │ Name │   Value   │ Hesse Err │ Minos Err- │ Minos Err+ │ Limit-  │ Limit+  │ Fixed │\n",
       "├───┼──────┼───────────┼───────────┼────────────┼────────────┼─────────┼─────────┼───────┤\n",
       "│ 0 │ tau  │   2.204   │   0.035   │            │            │         │         │       │\n",
       "└───┴──────┴───────────┴───────────┴────────────┴────────────┴─────────┴─────────┴───────┘\n",
       "┌─────┬─────────┐\n",
       "│     │     tau │\n",
       "├─────┼─────────┤\n",
       "│ tau │ 0.00125 │\n",
       "└─────┴─────────┘"
      ]
     },
     "execution_count": 60,
     "metadata": {},
     "output_type": "execute_result"
    }
   ],
   "source": [
    "m = im(nll_correct,tau=2.0)\n",
    "#m.limits['tau'] = [0,10]\n",
    "m.migrad()"
   ]
  },
  {
   "cell_type": "code",
   "execution_count": 61,
   "metadata": {},
   "outputs": [
    {
     "name": "stdout",
     "output_type": "stream",
     "text": [
      "The tau estimate with the correct normalisation: 2.20 +/- 0.04\n"
     ]
    }
   ],
   "source": [
    "tau_val = m.values[0]\n",
    "tau_err = m.errors[0]\n",
    "print(\"The tau estimate with the correct normalisation: {:.2f} +/- {:.2f}\".format(tau_val,tau_err))"
   ]
  },
  {
   "cell_type": "markdown",
   "metadata": {},
   "source": [
    "The computational data generated is simulating a detector system that is looking for muon decays in the time range [0,10]. This is practical because we cannot have a detector detecting muon decays for infinite amount of time(forever). Even though the real process does not have a cutoff, the detector does have its limit.\n",
    "\n",
    "With the nll_correct model, normalised within the cutoff of 10, provides a more accurate estimate because the data being used is within that range. \n",
    "\n",
    "With the nll_incorrect estimate, this model normalises as if the data collection range is from 0 to infinity,but there is no data past 10, so the likelihood is disproptionate towards the lower values and consequently underestimates the lifeftime.\n",
    "\n"
   ]
  },
  {
   "cell_type": "markdown",
   "metadata": {},
   "source": [
    "### Part 2"
   ]
  },
  {
   "cell_type": "markdown",
   "metadata": {},
   "source": [
    "1. Plotting the histogram"
   ]
  },
  {
   "cell_type": "code",
   "execution_count": 62,
   "metadata": {},
   "outputs": [
    {
     "data": {
      "image/png": "[encoded data removed]",
      "text/plain": [
       "<Figure size 432x288 with 1 Axes>"
      ]
     },
     "metadata": {
      "needs_background": "light"
     },
     "output_type": "display_data"
    }
   ],
   "source": [
    "vals,bins,_=plt.hist(data_exres, bins=100,density=True)\n",
    "plt.title(\"Generated Lifetimes\")\n",
    "plt.xlabel(\"Time\")\n",
    "plt.ylabel(\"Counts\")\n",
    "plt.show()"
   ]
  },
  {
   "cell_type": "markdown",
   "metadata": {},
   "source": [
    "The data seems to be following fusion of two functions - gaussian function, on top of an exponential\n",
    " decay. The count for the exponential halves around 5, and for the gaussian mean is around ~2.5. "
   ]
  },
  {
   "cell_type": "markdown",
   "metadata": {},
   "source": [
    "2. Function for the combined nll"
   ]
  },
  {
   "cell_type": "code",
   "execution_count": 63,
   "metadata": {},
   "outputs": [],
   "source": [
    "def comb_nll(g_mean,tau_exp,c,F):\n",
    "    \"\"\"Generates combined NLL function from the sum of Exponential and Gaussian PDFs normalised in the range [0,10]\n",
    "\n",
    "    Args:\n",
    "        tau_g (float): lifetime from the Gaussian PDF\n",
    "        tau_exp (float): lifetime from the Exponential PDF\n",
    "        c (float): half-width of the Gaussian PDF\n",
    "        F1 (float): fraction of counts in the Exponential PDF\n",
    "\n",
    "    Returns:\n",
    "        float : NLL function\n",
    "    \"\"\"\n",
    "    n_g = 1.25331*c*(erf(0.707107*g_mean/c)-erf(0.707107*(g_mean-10)/c)) # normalization for the gaussian pdf\n",
    "    P_g = np.exp(-0.5*((data_exres-g_mean)/c)**2)*(1/n_g) # gaussian pdf\n",
    "    \n",
    "    n_exp   = (1-np.exp(-10/tau_exp))*tau_exp  # normalization for the exponential pdf\n",
    "    P_exp = (1/n_exp)*np.exp(-data_exres/tau_exp) #exponential pdf\n",
    "    \n",
    "    return -np.sum(np.log(F*P_exp + (1-F)*P_g)) #combined nll\n",
    "    "
   ]
  },
  {
   "cell_type": "code",
   "execution_count": 64,
   "metadata": {},
   "outputs": [
    {
     "data": {
      "text/html": [
       "<table>\n",
       "    <tr>\n",
       "        <th colspan=\"5\" style=\"text-align:center\" title=\"Minimizer\"> Migrad </th>\n",
       "    </tr>\n",
       "    <tr>\n",
       "        <td colspan=\"2\" style=\"text-align:left\" title=\"Minimum value of function\"> FCN = 2.102e+04 </td>\n",
       "        <td colspan=\"3\" style=\"text-align:center\" title=\"Total number of function and (optional) gradient evaluations\"> Nfcn = 83 </td>\n",
       "    </tr>\n",
       "    <tr>\n",
       "        <td colspan=\"2\" style=\"text-align:left\" title=\"Estimated distance to minimum and goal\"> EDM = 7.48e-06 (Goal: 0.0002) </td>\n",
       "        <td colspan=\"3\" style=\"text-align:center\" title=\"Total run time of algorithms\">  </td>\n",
       "    </tr>\n",
       "    <tr>\n",
       "        <td colspan=\"2\" style=\"text-align:center;background-color:#92CCA6;color:black\"> Valid Minimum </td>\n",
       "        <td colspan=\"3\" style=\"text-align:center;background-color:#92CCA6;color:black\"> No Parameters at limit </td>\n",
       "    </tr>\n",
       "    <tr>\n",
       "        <td colspan=\"2\" style=\"text-align:center;background-color:#92CCA6;color:black\"> Below EDM threshold (goal x 10) </td>\n",
       "        <td colspan=\"3\" style=\"text-align:center;background-color:#92CCA6;color:black\"> Below call limit </td>\n",
       "    </tr>\n",
       "    <tr>\n",
       "        <td style=\"text-align:center;background-color:#92CCA6;color:black\"> Covariance </td>\n",
       "        <td style=\"text-align:center;background-color:#92CCA6;color:black\"> Hesse ok </td>\n",
       "        <td style=\"text-align:center;background-color:#92CCA6;color:black\" title=\"Is covariance matrix accurate?\"> Accurate </td>\n",
       "        <td style=\"text-align:center;background-color:#92CCA6;color:black\" title=\"Is covariance matrix positive definite?\"> Pos. def. </td>\n",
       "        <td style=\"text-align:center;background-color:#92CCA6;color:black\" title=\"Was positive definiteness enforced by Minuit?\"> Not forced </td>\n",
       "    </tr>\n",
       "</table><table>\n",
       "    <tr>\n",
       "        <td></td>\n",
       "        <th title=\"Variable name\"> Name </th>\n",
       "        <th title=\"Value of parameter\"> Value </th>\n",
       "        <th title=\"Hesse error\"> Hesse Error </th>\n",
       "        <th title=\"Minos lower error\"> Minos Error- </th>\n",
       "        <th title=\"Minos upper error\"> Minos Error+ </th>\n",
       "        <th title=\"Lower limit of the parameter\"> Limit- </th>\n",
       "        <th title=\"Upper limit of the parameter\"> Limit+ </th>\n",
       "        <th title=\"Is the parameter fixed in the fit\"> Fixed </th>\n",
       "    </tr>\n",
       "    <tr>\n",
       "        <th> 0 </th>\n",
       "        <td> g_mean </td>\n",
       "        <td> 2.500 </td>\n",
       "        <td> 0.017 </td>\n",
       "        <td>  </td>\n",
       "        <td>  </td>\n",
       "        <td>  </td>\n",
       "        <td>  </td>\n",
       "        <td>  </td>\n",
       "    </tr>\n",
       "    <tr>\n",
       "        <th> 1 </th>\n",
       "        <td> tau_exp </td>\n",
       "        <td> 5.04 </td>\n",
       "        <td> 0.14 </td>\n",
       "        <td>  </td>\n",
       "        <td>  </td>\n",
       "        <td>  </td>\n",
       "        <td>  </td>\n",
       "        <td>  </td>\n",
       "    </tr>\n",
       "    <tr>\n",
       "        <th> 2 </th>\n",
       "        <td> c </td>\n",
       "        <td> 0.200 </td>\n",
       "        <td> 0.002 </td>\n",
       "        <td>  </td>\n",
       "        <td>  </td>\n",
       "        <td>  </td>\n",
       "        <td>  </td>\n",
       "        <td> yes </td>\n",
       "    </tr>\n",
       "    <tr>\n",
       "        <th> 3 </th>\n",
       "        <td> F </td>\n",
       "        <td> 0.903 </td>\n",
       "        <td> 0.006 </td>\n",
       "        <td>  </td>\n",
       "        <td>  </td>\n",
       "        <td>  </td>\n",
       "        <td>  </td>\n",
       "        <td>  </td>\n",
       "    </tr>\n",
       "</table><table>\n",
       "    <tr>\n",
       "        <td></td>\n",
       "        <th> g_mean </th>\n",
       "        <th> tau_exp </th>\n",
       "        <th> c </th>\n",
       "        <th> F </th>\n",
       "    </tr>\n",
       "    <tr>\n",
       "        <th> g_mean </th>\n",
       "        <td> 0.000278 </td>\n",
       "        <td style=\"background-color:rgb(246,246,250);color:black\"> -8.37e-05 <strong>(-0.035)</strong> </td>\n",
       "        <td style=\"background-color:rgb(250,250,250);color:black\"> 0 </td>\n",
       "        <td style=\"background-color:rgb(250,248,248);color:black\"> 1.69e-06 <strong>(0.016)</strong> </td>\n",
       "    </tr>\n",
       "    <tr>\n",
       "        <th> tau_exp </th>\n",
       "        <td style=\"background-color:rgb(246,246,250);color:black\"> -8.37e-05 <strong>(-0.035)</strong> </td>\n",
       "        <td> 0.0211 </td>\n",
       "        <td style=\"background-color:rgb(250,250,250);color:black\"> 0 </td>\n",
       "        <td style=\"background-color:rgb(237,237,250);color:black\"> -8.97e-05 <strong>(-0.097)</strong> </td>\n",
       "    </tr>\n",
       "    <tr>\n",
       "        <th> c </th>\n",
       "        <td style=\"background-color:rgb(250,250,250);color:black\"> 0 </td>\n",
       "        <td style=\"background-color:rgb(250,250,250);color:black\"> 0 </td>\n",
       "        <td> 0 </td>\n",
       "        <td style=\"background-color:rgb(250,250,250);color:black\"> 0 </td>\n",
       "    </tr>\n",
       "    <tr>\n",
       "        <th> F </th>\n",
       "        <td style=\"background-color:rgb(250,248,248);color:black\"> 1.69e-06 <strong>(0.016)</strong> </td>\n",
       "        <td style=\"background-color:rgb(237,237,250);color:black\"> -8.97e-05 <strong>(-0.097)</strong> </td>\n",
       "        <td style=\"background-color:rgb(250,250,250);color:black\"> 0 </td>\n",
       "        <td> 4.06e-05 </td>\n",
       "    </tr>\n",
       "</table>"
      ],
      "text/plain": [
       "┌─────────────────────────────────────────────────────────────────────────┐\n",
       "│                                Migrad                                   │\n",
       "├──────────────────────────────────┬──────────────────────────────────────┤\n",
       "│ FCN = 2.102e+04                  │              Nfcn = 83               │\n",
       "│ EDM = 7.48e-06 (Goal: 0.0002)    │                                      │\n",
       "├──────────────────────────────────┼──────────────────────────────────────┤\n",
       "│          Valid Minimum           │        No Parameters at limit        │\n",
       "├──────────────────────────────────┼──────────────────────────────────────┤\n",
       "│ Below EDM threshold (goal x 10)  │           Below call limit           │\n",
       "├───────────────┬──────────────────┼───────────┬─────────────┬────────────┤\n",
       "│  Covariance   │     Hesse ok     │ Accurate  │  Pos. def.  │ Not forced │\n",
       "└───────────────┴──────────────────┴───────────┴─────────────┴────────────┘\n",
       "┌───┬─────────┬───────────┬───────────┬────────────┬────────────┬─────────┬─────────┬───────┐\n",
       "│   │ Name    │   Value   │ Hesse Err │ Minos Err- │ Minos Err+ │ Limit-  │ Limit+  │ Fixed │\n",
       "├───┼─────────┼───────────┼───────────┼────────────┼────────────┼─────────┼─────────┼───────┤\n",
       "│ 0 │ g_mean  │   2.500   │   0.017   │            │            │         │         │       │\n",
       "│ 1 │ tau_exp │   5.04    │   0.14    │            │            │         │         │       │\n",
       "│ 2 │ c       │   0.200   │   0.002   │            │            │         │         │  yes  │\n",
       "│ 3 │ F       │   0.903   │   0.006   │            │            │         │         │       │\n",
       "└───┴─────────┴───────────┴───────────┴────────────┴────────────┴─────────┴─────────┴───────┘\n",
       "┌─────────┬─────────────────────────────────────────┐\n",
       "│         │    g_mean   tau_exp         c         F │\n",
       "├─────────┼─────────────────────────────────────────┤\n",
       "│  g_mean │  0.000278 -8.37e-05         0  1.69e-06 │\n",
       "│ tau_exp │ -8.37e-05    0.0211         0 -8.97e-05 │\n",
       "│       c │         0         0         0         0 │\n",
       "│       F │  1.69e-06 -8.97e-05         0  4.06e-05 │\n",
       "└─────────┴─────────────────────────────────────────┘"
      ]
     },
     "execution_count": 64,
     "metadata": {},
     "output_type": "execute_result"
    }
   ],
   "source": [
    "m = im(comb_nll,g_mean=2.0,tau_exp=4.0,c=0.2,F=0.8)\n",
    "m.fixed['c'] = True #fixing the width\n",
    "#m.limits['tau'] = [0,10]\n",
    "m.migrad()"
   ]
  },
  {
   "cell_type": "code",
   "execution_count": 65,
   "metadata": {},
   "outputs": [
    {
     "name": "stdout",
     "output_type": "stream",
     "text": [
      "The Gaussian Mean: 2.50 +/- 0.02\n",
      "Exponential Parameter('lifetime'): 5.0 +/- 0.1\n",
      "Fraction F: 0.903 +/- 0.006\n"
     ]
    }
   ],
   "source": [
    "g_val,tau_val,c_val,F_val = m.values[0:]\n",
    "g_err,tau_err,c_err,F_err = m.errors[0:]\n",
    "print(\"The Gaussian Mean: {:.2f} +/- {:.2f}\".format(g_val,g_err))\n",
    "print(\"Exponential Parameter('lifetime'): {:.1f} +/- {:.1f}\".format(tau_val,tau_err))\n",
    "print(\"Fraction F: {:.3f} +/- {:.3f}\".format(F_val,F_err))"
   ]
  },
  {
   "cell_type": "markdown",
   "metadata": {},
   "source": [
    "The estimated values from the fit are quite accurate to the true values given in the question.\n",
    "As we are relying on the joint likelihood, which is simply a product of probability of each event, NLL can be used regardless of how complicated the function is. But it is importnat to recognise the different PDFs ( here, exponential and gaussian) and take into account the fraction of events for each PDFs."
   ]
  },
  {
   "cell_type": "markdown",
   "metadata": {},
   "source": [
    "## Verifying Normalisation of the PDFs."
   ]
  },
  {
   "cell_type": "code",
   "execution_count": 66,
   "metadata": {},
   "outputs": [
    {
     "name": "stdout",
     "output_type": "stream",
     "text": [
      "1.0000033011110578\n"
     ]
    }
   ],
   "source": [
    "#discretzing parameters for integrating PDFs\n",
    "dt  =   0.0001\n",
    "c   =   0.2\n",
    "r   =   (0,10)\n",
    "n   =   int(np.diff(r)[0]/dt)+1\n",
    "p   =   np.linspace(*r,n)\n",
    "\n",
    "\n",
    "n1 = 1.25331*c*(erf((0.707107*g_val)/c)-erf((0.707107*(g_val-10))/c)) # normalization for the gaussian pdf\n",
    "P_g = np.exp(-0.5*((p-g_val)/c)**2) # gaussian pdf\n",
    "\n",
    "print(np.sum(dt*P_g*(1/n1))) #integration discretized\n",
    "\n"
   ]
  },
  {
   "cell_type": "code",
   "execution_count": 73,
   "metadata": {},
   "outputs": [
    {
     "name": "stdout",
     "output_type": "stream",
     "text": [
      "1.0000130797656852\n"
     ]
    }
   ],
   "source": [
    "n2   = tau_val*(1-np.exp(-10/tau_val))# normalization for the exponential pdf\n",
    "P_exp = np.exp(-p/tau_val) #exponential pdf\n",
    "\n",
    "print(np.sum(dt*P_exp*(1/n2))) #integration discretized\n"
   ]
  },
  {
   "cell_type": "code",
   "execution_count": null,
   "metadata": {},
   "outputs": [],
   "source": []
  }
 ],
 "metadata": {
  "kernelspec": {
   "display_name": "Python 3.9.12 ('base')",
   "language": "python",
   "name": "python3"
  },
  "language_info": {
   "codemirror_mode": {
    "name": "ipython",
    "version": 3
   },
   "file_extension": ".py",
   "mimetype": "text/x-python",
   "name": "python",
   "nbconvert_exporter": "python",
   "pygments_lexer": "ipython3",
   "version": "3.9.12"
  },
  "orig_nbformat": 4,
  "vscode": {
   "interpreter": {
    "hash": "da53d38835faffea80e63966bc129948fc7e9b0cb1da538bc9c402bb169491d8"
   }
  }
 },
 "nbformat": 4,
 "nbformat_minor": 2
}
